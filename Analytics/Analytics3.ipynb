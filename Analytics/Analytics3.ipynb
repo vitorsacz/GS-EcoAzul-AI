{
 "cells": [
  {
   "cell_type": "code",
   "execution_count": 1,
   "metadata": {},
   "outputs": [
    {
     "name": "stderr",
     "output_type": "stream",
     "text": [
      "ERROR: Could not find a version that satisfies the requirement pickle (from versions: none)\n",
      "ERROR: No matching distribution found for pickle\n"
     ]
    }
   ],
   "source": [
    "! pip install --quiet -r requirements.txt"
   ]
  },
  {
   "cell_type": "code",
   "execution_count": 2,
   "metadata": {},
   "outputs": [
    {
     "name": "stderr",
     "output_type": "stream",
     "text": [
      "C:\\Users\\vitor\\AppData\\Local\\Temp\\ipykernel_27552\\3632437423.py:1: DeprecationWarning: \n",
      "Pyarrow will become a required dependency of pandas in the next major release of pandas (pandas 3.0),\n",
      "(to allow more performant data types, such as the Arrow string type, and better interoperability with other libraries)\n",
      "but was not found to be installed on your system.\n",
      "If this would cause problems for you,\n",
      "please provide us feedback at https://github.com/pandas-dev/pandas/issues/54466\n",
      "        \n",
      "  import pandas as pd\n"
     ]
    }
   ],
   "source": [
    "import pandas as pd\n",
    "import seaborn as sns\n",
    "import matplotlib.pyplot as plt"
   ]
  },
  {
   "cell_type": "code",
   "execution_count": 3,
   "metadata": {},
   "outputs": [],
   "source": [
    "df = pd.read_csv(\"./../data/3- destino-plastico.csv\")"
   ]
  },
  {
   "cell_type": "code",
   "execution_count": 4,
   "metadata": {},
   "outputs": [
    {
     "data": {
      "text/html": [
       "<div>\n",
       "<style scoped>\n",
       "    .dataframe tbody tr th:only-of-type {\n",
       "        vertical-align: middle;\n",
       "    }\n",
       "\n",
       "    .dataframe tbody tr th {\n",
       "        vertical-align: top;\n",
       "    }\n",
       "\n",
       "    .dataframe thead th {\n",
       "        text-align: right;\n",
       "    }\n",
       "</style>\n",
       "<table border=\"1\" class=\"dataframe\">\n",
       "  <thead>\n",
       "    <tr style=\"text-align: right;\">\n",
       "      <th></th>\n",
       "      <th>0</th>\n",
       "      <th>1</th>\n",
       "      <th>2</th>\n",
       "      <th>3</th>\n",
       "      <th>4</th>\n",
       "    </tr>\n",
       "  </thead>\n",
       "  <tbody>\n",
       "    <tr>\n",
       "      <th>Entidade</th>\n",
       "      <td>Americas (excl. USA)</td>\n",
       "      <td>Americas (excl. USA)</td>\n",
       "      <td>Americas (excl. USA)</td>\n",
       "      <td>Americas (excl. USA)</td>\n",
       "      <td>Americas (excl. USA)</td>\n",
       "    </tr>\n",
       "    <tr>\n",
       "      <th>Código</th>\n",
       "      <td>NaN</td>\n",
       "      <td>NaN</td>\n",
       "      <td>NaN</td>\n",
       "      <td>NaN</td>\n",
       "      <td>NaN</td>\n",
       "    </tr>\n",
       "    <tr>\n",
       "      <th>Ano</th>\n",
       "      <td>2000</td>\n",
       "      <td>2001</td>\n",
       "      <td>2002</td>\n",
       "      <td>2003</td>\n",
       "      <td>2004</td>\n",
       "    </tr>\n",
       "    <tr>\n",
       "      <th>Participação da reciclagem do lixo total regional</th>\n",
       "      <td>4.721963</td>\n",
       "      <td>4.972505</td>\n",
       "      <td>5.227469</td>\n",
       "      <td>5.482511</td>\n",
       "      <td>5.740007</td>\n",
       "    </tr>\n",
       "    <tr>\n",
       "      <th>Participação da queima do lixo total regional</th>\n",
       "      <td>1.220057</td>\n",
       "      <td>1.208672</td>\n",
       "      <td>1.197566</td>\n",
       "      <td>1.186352</td>\n",
       "      <td>1.175283</td>\n",
       "    </tr>\n",
       "    <tr>\n",
       "      <th>Participação do lixo descartado e mal gerido do total regional</th>\n",
       "      <td>32.702644</td>\n",
       "      <td>32.65127</td>\n",
       "      <td>32.610554</td>\n",
       "      <td>32.54644</td>\n",
       "      <td>32.48097</td>\n",
       "    </tr>\n",
       "    <tr>\n",
       "      <th>Participação do lixo encaminhado para aterros do total regional</th>\n",
       "      <td>61.355328</td>\n",
       "      <td>61.167557</td>\n",
       "      <td>60.964405</td>\n",
       "      <td>60.7847</td>\n",
       "      <td>60.603745</td>\n",
       "    </tr>\n",
       "  </tbody>\n",
       "</table>\n",
       "</div>"
      ],
      "text/plain": [
       "                                                                       0  \\\n",
       "Entidade                                            Americas (excl. USA)   \n",
       " Código                                                              NaN   \n",
       " Ano                                                                2000   \n",
       " Participação da reciclagem do lixo total regional              4.721963   \n",
       " Participação da queima do lixo total regional                  1.220057   \n",
       " Participação do lixo descartado e mal gerido d...             32.702644   \n",
       " Participação do lixo encaminhado para aterros ...             61.355328   \n",
       "\n",
       "                                                                       1  \\\n",
       "Entidade                                            Americas (excl. USA)   \n",
       " Código                                                              NaN   \n",
       " Ano                                                                2001   \n",
       " Participação da reciclagem do lixo total regional              4.972505   \n",
       " Participação da queima do lixo total regional                  1.208672   \n",
       " Participação do lixo descartado e mal gerido d...              32.65127   \n",
       " Participação do lixo encaminhado para aterros ...             61.167557   \n",
       "\n",
       "                                                                       2  \\\n",
       "Entidade                                            Americas (excl. USA)   \n",
       " Código                                                              NaN   \n",
       " Ano                                                                2002   \n",
       " Participação da reciclagem do lixo total regional              5.227469   \n",
       " Participação da queima do lixo total regional                  1.197566   \n",
       " Participação do lixo descartado e mal gerido d...             32.610554   \n",
       " Participação do lixo encaminhado para aterros ...             60.964405   \n",
       "\n",
       "                                                                       3  \\\n",
       "Entidade                                            Americas (excl. USA)   \n",
       " Código                                                              NaN   \n",
       " Ano                                                                2003   \n",
       " Participação da reciclagem do lixo total regional              5.482511   \n",
       " Participação da queima do lixo total regional                  1.186352   \n",
       " Participação do lixo descartado e mal gerido d...              32.54644   \n",
       " Participação do lixo encaminhado para aterros ...               60.7847   \n",
       "\n",
       "                                                                       4  \n",
       "Entidade                                            Americas (excl. USA)  \n",
       " Código                                                              NaN  \n",
       " Ano                                                                2004  \n",
       " Participação da reciclagem do lixo total regional              5.740007  \n",
       " Participação da queima do lixo total regional                  1.175283  \n",
       " Participação do lixo descartado e mal gerido d...              32.48097  \n",
       " Participação do lixo encaminhado para aterros ...             60.603745  "
      ]
     },
     "execution_count": 4,
     "metadata": {},
     "output_type": "execute_result"
    }
   ],
   "source": [
    "df.head().T"
   ]
  },
  {
   "cell_type": "code",
   "execution_count": 5,
   "metadata": {},
   "outputs": [
    {
     "name": "stdout",
     "output_type": "stream",
     "text": [
      "<class 'pandas.core.frame.DataFrame'>\n",
      "RangeIndex: 200 entries, 0 to 199\n",
      "Data columns (total 7 columns):\n",
      " #   Column                                                            Non-Null Count  Dtype  \n",
      "---  ------                                                            --------------  -----  \n",
      " 0   Entidade                                                          200 non-null    object \n",
      " 1    Código                                                           80 non-null     object \n",
      " 2    Ano                                                              200 non-null    int64  \n",
      " 3    Participação da reciclagem do lixo total regional                200 non-null    float64\n",
      " 4    Participação da queima do lixo total regional                    200 non-null    float64\n",
      " 5    Participação do lixo descartado e mal gerido do total regional   200 non-null    float64\n",
      " 6    Participação do lixo encaminhado para aterros do total regional  200 non-null    float64\n",
      "dtypes: float64(4), int64(1), object(2)\n",
      "memory usage: 11.1+ KB\n"
     ]
    }
   ],
   "source": [
    "df.info()"
   ]
  },
  {
   "cell_type": "code",
   "execution_count": 6,
   "metadata": {},
   "outputs": [
    {
     "data": {
      "text/html": [
       "<div>\n",
       "<style scoped>\n",
       "    .dataframe tbody tr th:only-of-type {\n",
       "        vertical-align: middle;\n",
       "    }\n",
       "\n",
       "    .dataframe tbody tr th {\n",
       "        vertical-align: top;\n",
       "    }\n",
       "\n",
       "    .dataframe thead th {\n",
       "        text-align: right;\n",
       "    }\n",
       "</style>\n",
       "<table border=\"1\" class=\"dataframe\">\n",
       "  <thead>\n",
       "    <tr style=\"text-align: right;\">\n",
       "      <th></th>\n",
       "      <th>Ano</th>\n",
       "      <th>Participação da reciclagem do lixo total regional</th>\n",
       "      <th>Participação da queima do lixo total regional</th>\n",
       "      <th>Participação do lixo descartado e mal gerido do total regional</th>\n",
       "      <th>Participação do lixo encaminhado para aterros do total regional</th>\n",
       "    </tr>\n",
       "  </thead>\n",
       "  <tbody>\n",
       "    <tr>\n",
       "      <th>count</th>\n",
       "      <td>200.000000</td>\n",
       "      <td>200.000000</td>\n",
       "      <td>200.000000</td>\n",
       "      <td>200.000000</td>\n",
       "      <td>200.000000</td>\n",
       "    </tr>\n",
       "    <tr>\n",
       "      <th>mean</th>\n",
       "      <td>2009.500000</td>\n",
       "      <td>6.364439</td>\n",
       "      <td>10.541669</td>\n",
       "      <td>32.703471</td>\n",
       "      <td>50.390421</td>\n",
       "    </tr>\n",
       "    <tr>\n",
       "      <th>std</th>\n",
       "      <td>5.780751</td>\n",
       "      <td>2.587257</td>\n",
       "      <td>9.132355</td>\n",
       "      <td>20.154271</td>\n",
       "      <td>16.346958</td>\n",
       "    </tr>\n",
       "    <tr>\n",
       "      <th>min</th>\n",
       "      <td>2000.000000</td>\n",
       "      <td>2.345074</td>\n",
       "      <td>0.000000</td>\n",
       "      <td>3.552523</td>\n",
       "      <td>25.098991</td>\n",
       "    </tr>\n",
       "    <tr>\n",
       "      <th>25%</th>\n",
       "      <td>2004.750000</td>\n",
       "      <td>4.362588</td>\n",
       "      <td>1.128528</td>\n",
       "      <td>10.955612</td>\n",
       "      <td>33.711067</td>\n",
       "    </tr>\n",
       "    <tr>\n",
       "      <th>50%</th>\n",
       "      <td>2009.500000</td>\n",
       "      <td>5.716396</td>\n",
       "      <td>11.009694</td>\n",
       "      <td>32.513705</td>\n",
       "      <td>51.571503</td>\n",
       "    </tr>\n",
       "    <tr>\n",
       "      <th>75%</th>\n",
       "      <td>2014.250000</td>\n",
       "      <td>7.920186</td>\n",
       "      <td>16.964613</td>\n",
       "      <td>45.841763</td>\n",
       "      <td>60.648984</td>\n",
       "    </tr>\n",
       "    <tr>\n",
       "      <th>max</th>\n",
       "      <td>2019.000000</td>\n",
       "      <td>13.333093</td>\n",
       "      <td>37.823994</td>\n",
       "      <td>69.322820</td>\n",
       "      <td>75.051970</td>\n",
       "    </tr>\n",
       "  </tbody>\n",
       "</table>\n",
       "</div>"
      ],
      "text/plain": [
       "               Ano  Participação da reciclagem do lixo total regional  \\\n",
       "count   200.000000                                         200.000000   \n",
       "mean   2009.500000                                           6.364439   \n",
       "std       5.780751                                           2.587257   \n",
       "min    2000.000000                                           2.345074   \n",
       "25%    2004.750000                                           4.362588   \n",
       "50%    2009.500000                                           5.716396   \n",
       "75%    2014.250000                                           7.920186   \n",
       "max    2019.000000                                          13.333093   \n",
       "\n",
       "       Participação da queima do lixo total regional  \\\n",
       "count                                     200.000000   \n",
       "mean                                       10.541669   \n",
       "std                                         9.132355   \n",
       "min                                         0.000000   \n",
       "25%                                         1.128528   \n",
       "50%                                        11.009694   \n",
       "75%                                        16.964613   \n",
       "max                                        37.823994   \n",
       "\n",
       "       Participação do lixo descartado e mal gerido do total regional  \\\n",
       "count                                         200.000000                \n",
       "mean                                           32.703471                \n",
       "std                                            20.154271                \n",
       "min                                             3.552523                \n",
       "25%                                            10.955612                \n",
       "50%                                            32.513705                \n",
       "75%                                            45.841763                \n",
       "max                                            69.322820                \n",
       "\n",
       "       Participação do lixo encaminhado para aterros do total regional  \n",
       "count                                         200.000000                \n",
       "mean                                           50.390421                \n",
       "std                                            16.346958                \n",
       "min                                            25.098991                \n",
       "25%                                            33.711067                \n",
       "50%                                            51.571503                \n",
       "75%                                            60.648984                \n",
       "max                                            75.051970                "
      ]
     },
     "execution_count": 6,
     "metadata": {},
     "output_type": "execute_result"
    }
   ],
   "source": [
    "df.describe()"
   ]
  },
  {
   "cell_type": "code",
   "execution_count": 7,
   "metadata": {},
   "outputs": [],
   "source": [
    "df.dropna(inplace=True)"
   ]
  },
  {
   "cell_type": "code",
   "execution_count": 8,
   "metadata": {},
   "outputs": [
    {
     "data": {
      "text/plain": [
       "Entidade                                                            0\n",
       " Código                                                             0\n",
       " Ano                                                                0\n",
       " Participação da reciclagem do lixo total regional                  0\n",
       " Participação da queima do lixo total regional                      0\n",
       " Participação do lixo descartado e mal gerido do total regional     0\n",
       " Participação do lixo encaminhado para aterros do total regional    0\n",
       "dtype: int64"
      ]
     },
     "execution_count": 8,
     "metadata": {},
     "output_type": "execute_result"
    }
   ],
   "source": [
    "df.isnull().sum()"
   ]
  },
  {
   "cell_type": "code",
   "execution_count": 9,
   "metadata": {},
   "outputs": [
    {
     "data": {
      "text/plain": [
       "Index(['Entidade', ' Código', ' Ano',\n",
       "       ' Participação da reciclagem do lixo total regional',\n",
       "       ' Participação da queima do lixo total regional',\n",
       "       ' Participação do lixo descartado e mal gerido do total regional',\n",
       "       ' Participação do lixo encaminhado para aterros do total regional'],\n",
       "      dtype='object')"
      ]
     },
     "execution_count": 9,
     "metadata": {},
     "output_type": "execute_result"
    }
   ],
   "source": [
    "df.columns"
   ]
  },
  {
   "cell_type": "code",
   "execution_count": 10,
   "metadata": {},
   "outputs": [
    {
     "data": {
      "image/png": "[encoded data removed]",
      "text/plain": [
       "<Figure size 640x480 with 1 Axes>"
      ]
     },
     "metadata": {},
     "output_type": "display_data"
    }
   ],
   "source": [
    "entidades = df.groupby('Entidade')\n",
    "\n",
    "for region, data in entidades:\n",
    "    plt.plot(data[' Ano'], data[' Participação da reciclagem do lixo total regional'], label=region)\n",
    "\n",
    "plt.legend()\n",
    "\n",
    "plt.title('Participação da reciclagem do lixo ao longo do tempo em diferentes regiões', )\n",
    "\n",
    "plt.xlabel('Ano', fontsize=10, weight='bold')\n",
    "plt.ylabel('Participação da reciclagem do lixo total regional' , fontsize=10, weight='bold')\n",
    "\n",
    "plt.grid(True)\n",
    "\n",
    "plt.show()"
   ]
  },
  {
   "cell_type": "code",
   "execution_count": null,
   "metadata": {},
   "outputs": [],
   "source": []
  }
 ],
 "metadata": {
  "kernelspec": {
   "display_name": "Python 3",
   "language": "python",
   "name": "python3"
  },
  "language_info": {
   "codemirror_mode": {
    "name": "ipython",
    "version": 3
   },
   "file_extension": ".py",
   "mimetype": "text/x-python",
   "name": "python",
   "nbconvert_exporter": "python",
   "pygments_lexer": "ipython3",
   "version": "3.12.2"
  }
 },
 "nbformat": 4,
 "nbformat_minor": 2
}
