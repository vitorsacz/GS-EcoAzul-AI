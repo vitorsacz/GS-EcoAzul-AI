{
 "cells": [
  {
   "cell_type": "code",
   "execution_count": 1,
   "metadata": {},
   "outputs": [
    {
     "name": "stderr",
     "output_type": "stream",
     "text": [
      "C:\\Users\\vitor\\AppData\\Local\\Temp\\ipykernel_12516\\3041792526.py:1: DeprecationWarning: \n",
      "Pyarrow will become a required dependency of pandas in the next major release of pandas (pandas 3.0),\n",
      "(to allow more performant data types, such as the Arrow string type, and better interoperability with other libraries)\n",
      "but was not found to be installed on your system.\n",
      "If this would cause problems for you,\n",
      "please provide us feedback at https://github.com/pandas-dev/pandas/issues/54466\n",
      "        \n",
      "  import pandas as pd\n"
     ]
    }
   ],
   "source": [
    "import pandas as pd\n",
    "import sklearn"
   ]
  },
  {
   "cell_type": "code",
   "execution_count": 2,
   "metadata": {},
   "outputs": [],
   "source": [
    "# CRIANDO UM DATAFRAME DO ARQUIVO 2\n",
    "df_csv2 = pd.read_csv(\"../data/2- participacao-despejo-residuo-plastico.csv\")\n"
   ]
  },
  {
   "cell_type": "code",
   "execution_count": 3,
   "metadata": {},
   "outputs": [],
   "source": [
    "# CRIANDO UM DATAFRAME DO ARQUIVO 4\n",
    "df_csv4 = pd.read_csv(\"../data/4- desperdicio-plastico-per-capita.csv\")"
   ]
  },
  {
   "cell_type": "code",
   "execution_count": 4,
   "metadata": {},
   "outputs": [],
   "source": [
    "# CRIANDO UM DATAFRAME DO ARQUIVO 5\n",
    "df_csv5 = pd.read_csv(\"../data/5- poluicao-agua-cidades.csv\")"
   ]
  },
  {
   "cell_type": "code",
   "execution_count": 5,
   "metadata": {},
   "outputs": [
    {
     "name": "stdout",
     "output_type": "stream",
     "text": [
      "<class 'pandas.core.frame.DataFrame'>\n",
      "RangeIndex: 170 entries, 0 to 169\n",
      "Data columns (total 4 columns):\n",
      " #   Column                                                     Non-Null Count  Dtype  \n",
      "---  ------                                                     --------------  -----  \n",
      " 0   Entidade                                                   170 non-null    object \n",
      " 1   Código                                                     159 non-null    object \n",
      " 2   Ano                                                        170 non-null    int64  \n",
      " 3   Participação na emissão global de plásticos para o oceano  170 non-null    float64\n",
      "dtypes: float64(1), int64(1), object(2)\n",
      "memory usage: 5.4+ KB\n"
     ]
    }
   ],
   "source": [
    "# pegando as informacoes que temos dentro do df\n",
    "df_csv2.info()"
   ]
  },
  {
   "cell_type": "code",
   "execution_count": 6,
   "metadata": {},
   "outputs": [
    {
     "name": "stdout",
     "output_type": "stream",
     "text": [
      "<class 'pandas.core.frame.DataFrame'>\n",
      "RangeIndex: 165 entries, 0 to 164\n",
      "Data columns (total 4 columns):\n",
      " #   Column                                                 Non-Null Count  Dtype  \n",
      "---  ------                                                 --------------  -----  \n",
      " 0   Entidade                                               165 non-null    object \n",
      " 1    Código                                                160 non-null    object \n",
      " 2    Ano                                                   165 non-null    int64  \n",
      " 3    Lixo plástico mal gerenciado por pessoa (kg por ano)  165 non-null    float64\n",
      "dtypes: float64(1), int64(1), object(2)\n",
      "memory usage: 5.3+ KB\n"
     ]
    }
   ],
   "source": [
    "df_csv4.info()"
   ]
  },
  {
   "cell_type": "code",
   "execution_count": 7,
   "metadata": {},
   "outputs": [
    {
     "name": "stdout",
     "output_type": "stream",
     "text": [
      "<class 'pandas.core.frame.DataFrame'>\n",
      "RangeIndex: 3963 entries, 0 to 3962\n",
      "Data columns (total 5 columns):\n",
      " #   Column             Non-Null Count  Dtype  \n",
      "---  ------             --------------  -----  \n",
      " 0   Cidade             3963 non-null   object \n",
      " 1    Região            3538 non-null   object \n",
      " 2    Entidade          3963 non-null   object \n",
      " 3    Qualidade do Ar   3963 non-null   float64\n",
      " 4    Poluição da Água  3963 non-null   float64\n",
      "dtypes: float64(2), object(3)\n",
      "memory usage: 154.9+ KB\n"
     ]
    }
   ],
   "source": [
    "df_csv5.info()"
   ]
  },
  {
   "cell_type": "code",
   "execution_count": 8,
   "metadata": {},
   "outputs": [],
   "source": [
    "# dropando os itens nulos do df \n",
    "\n",
    "df_csv2 = df_csv2.dropna()\n",
    "df_csv4 = df_csv4.dropna()\n",
    "df_csv5 = df_csv5.dropna()"
   ]
  },
  {
   "cell_type": "code",
   "execution_count": 9,
   "metadata": {},
   "outputs": [
    {
     "name": "stdout",
     "output_type": "stream",
     "text": [
      "<class 'pandas.core.frame.DataFrame'>\n",
      "Index: 159 entries, 1 to 169\n",
      "Data columns (total 4 columns):\n",
      " #   Column                                                     Non-Null Count  Dtype  \n",
      "---  ------                                                     --------------  -----  \n",
      " 0   Entidade                                                   159 non-null    object \n",
      " 1   Código                                                     159 non-null    object \n",
      " 2   Ano                                                        159 non-null    int64  \n",
      " 3   Participação na emissão global de plásticos para o oceano  159 non-null    float64\n",
      "dtypes: float64(1), int64(1), object(2)\n",
      "memory usage: 6.2+ KB\n"
     ]
    }
   ],
   "source": [
    "#vendo as informações do df\n",
    "df_csv2.info()"
   ]
  },
  {
   "cell_type": "code",
   "execution_count": 10,
   "metadata": {},
   "outputs": [
    {
     "name": "stdout",
     "output_type": "stream",
     "text": [
      "<class 'pandas.core.frame.DataFrame'>\n",
      "Index: 160 entries, 1 to 164\n",
      "Data columns (total 4 columns):\n",
      " #   Column                                                 Non-Null Count  Dtype  \n",
      "---  ------                                                 --------------  -----  \n",
      " 0   Entidade                                               160 non-null    object \n",
      " 1    Código                                                160 non-null    object \n",
      " 2    Ano                                                   160 non-null    int64  \n",
      " 3    Lixo plástico mal gerenciado por pessoa (kg por ano)  160 non-null    float64\n",
      "dtypes: float64(1), int64(1), object(2)\n",
      "memory usage: 6.2+ KB\n"
     ]
    }
   ],
   "source": [
    "df_csv4.info()"
   ]
  },
  {
   "cell_type": "code",
   "execution_count": 11,
   "metadata": {},
   "outputs": [
    {
     "name": "stdout",
     "output_type": "stream",
     "text": [
      "<class 'pandas.core.frame.DataFrame'>\n",
      "Index: 3538 entries, 0 to 3962\n",
      "Data columns (total 5 columns):\n",
      " #   Column             Non-Null Count  Dtype  \n",
      "---  ------             --------------  -----  \n",
      " 0   Cidade             3538 non-null   object \n",
      " 1    Região            3538 non-null   object \n",
      " 2    Entidade          3538 non-null   object \n",
      " 3    Qualidade do Ar   3538 non-null   float64\n",
      " 4    Poluição da Água  3538 non-null   float64\n",
      "dtypes: float64(2), object(3)\n",
      "memory usage: 165.8+ KB\n"
     ]
    }
   ],
   "source": [
    "df_csv5.info()"
   ]
  },
  {
   "cell_type": "code",
   "execution_count": 12,
   "metadata": {},
   "outputs": [],
   "source": [
    "df_csv5_gp_paises = df_csv5.rename(columns={\" Entidade\":\"Entidade\"}).groupby('Entidade').mean(numeric_only=True)"
   ]
  },
  {
   "cell_type": "code",
   "execution_count": 13,
   "metadata": {},
   "outputs": [
    {
     "data": {
      "text/html": [
       "<div>\n",
       "<style scoped>\n",
       "    .dataframe tbody tr th:only-of-type {\n",
       "        vertical-align: middle;\n",
       "    }\n",
       "\n",
       "    .dataframe tbody tr th {\n",
       "        vertical-align: top;\n",
       "    }\n",
       "\n",
       "    .dataframe thead th {\n",
       "        text-align: right;\n",
       "    }\n",
       "</style>\n",
       "<table border=\"1\" class=\"dataframe\">\n",
       "  <thead>\n",
       "    <tr style=\"text-align: right;\">\n",
       "      <th></th>\n",
       "      <th>Código</th>\n",
       "      <th>Ano</th>\n",
       "      <th>Participação na emissão global de plásticos para o oceano</th>\n",
       "    </tr>\n",
       "    <tr>\n",
       "      <th>Entidade</th>\n",
       "      <th></th>\n",
       "      <th></th>\n",
       "      <th></th>\n",
       "    </tr>\n",
       "  </thead>\n",
       "  <tbody>\n",
       "    <tr>\n",
       "      <th>Albania</th>\n",
       "      <td>ALB</td>\n",
       "      <td>2019</td>\n",
       "      <td>0.159782</td>\n",
       "    </tr>\n",
       "    <tr>\n",
       "      <th>Algeria</th>\n",
       "      <td>DZA</td>\n",
       "      <td>2019</td>\n",
       "      <td>0.589510</td>\n",
       "    </tr>\n",
       "    <tr>\n",
       "      <th>Angola</th>\n",
       "      <td>AGO</td>\n",
       "      <td>2019</td>\n",
       "      <td>0.087804</td>\n",
       "    </tr>\n",
       "    <tr>\n",
       "      <th>Antigua and Barbuda</th>\n",
       "      <td>ATG</td>\n",
       "      <td>2019</td>\n",
       "      <td>0.000204</td>\n",
       "    </tr>\n",
       "    <tr>\n",
       "      <th>Argentina</th>\n",
       "      <td>ARG</td>\n",
       "      <td>2019</td>\n",
       "      <td>0.422376</td>\n",
       "    </tr>\n",
       "    <tr>\n",
       "      <th>...</th>\n",
       "      <td>...</td>\n",
       "      <td>...</td>\n",
       "      <td>...</td>\n",
       "    </tr>\n",
       "    <tr>\n",
       "      <th>Venezuela</th>\n",
       "      <td>VEN</td>\n",
       "      <td>2019</td>\n",
       "      <td>0.611359</td>\n",
       "    </tr>\n",
       "    <tr>\n",
       "      <th>Vietnam</th>\n",
       "      <td>VNM</td>\n",
       "      <td>2019</td>\n",
       "      <td>2.881287</td>\n",
       "    </tr>\n",
       "    <tr>\n",
       "      <th>Western Sahara</th>\n",
       "      <td>ESH</td>\n",
       "      <td>2019</td>\n",
       "      <td>0.003880</td>\n",
       "    </tr>\n",
       "    <tr>\n",
       "      <th>Yemen</th>\n",
       "      <td>YEM</td>\n",
       "      <td>2019</td>\n",
       "      <td>0.025729</td>\n",
       "    </tr>\n",
       "    <tr>\n",
       "      <th>Zimbabwe</th>\n",
       "      <td>ZWE</td>\n",
       "      <td>2019</td>\n",
       "      <td>0.000000</td>\n",
       "    </tr>\n",
       "  </tbody>\n",
       "</table>\n",
       "<p>159 rows × 3 columns</p>\n",
       "</div>"
      ],
      "text/plain": [
       "                    Código   Ano  \\\n",
       "Entidade                           \n",
       "Albania                ALB  2019   \n",
       "Algeria                DZA  2019   \n",
       "Angola                 AGO  2019   \n",
       "Antigua and Barbuda    ATG  2019   \n",
       "Argentina              ARG  2019   \n",
       "...                    ...   ...   \n",
       "Venezuela              VEN  2019   \n",
       "Vietnam                VNM  2019   \n",
       "Western Sahara         ESH  2019   \n",
       "Yemen                  YEM  2019   \n",
       "Zimbabwe               ZWE  2019   \n",
       "\n",
       "                     Participação na emissão global de plásticos para o oceano  \n",
       "Entidade                                                                        \n",
       "Albania                                                       0.159782          \n",
       "Algeria                                                       0.589510          \n",
       "Angola                                                        0.087804          \n",
       "Antigua and Barbuda                                           0.000204          \n",
       "Argentina                                                     0.422376          \n",
       "...                                                                ...          \n",
       "Venezuela                                                     0.611359          \n",
       "Vietnam                                                       2.881287          \n",
       "Western Sahara                                                0.003880          \n",
       "Yemen                                                         0.025729          \n",
       "Zimbabwe                                                      0.000000          \n",
       "\n",
       "[159 rows x 3 columns]"
      ]
     },
     "execution_count": 13,
     "metadata": {},
     "output_type": "execute_result"
    }
   ],
   "source": [
    "df_csv2.set_index('Entidade')"
   ]
  },
  {
   "cell_type": "code",
   "execution_count": 14,
   "metadata": {},
   "outputs": [],
   "source": [
    "#criando um df unico com o 2 e o 5\n",
    "df_unificado = df_csv2.set_index('Entidade').join(df_csv5_gp_paises)\n"
   ]
  },
  {
   "cell_type": "code",
   "execution_count": 15,
   "metadata": {},
   "outputs": [],
   "source": [
    "#juntando a uniao com o 4\n",
    "df_unificado = df_unificado.join(df_csv4.set_index('Entidade'))"
   ]
  },
  {
   "cell_type": "code",
   "execution_count": 16,
   "metadata": {},
   "outputs": [],
   "source": [
    "# tirando os nulos\n",
    "df_unificado = df_unificado.dropna()"
   ]
  },
  {
   "cell_type": "code",
   "execution_count": 17,
   "metadata": {},
   "outputs": [
    {
     "name": "stdout",
     "output_type": "stream",
     "text": [
      "<class 'pandas.core.frame.DataFrame'>\n",
      "Index: 115 entries, Albania to Zimbabwe\n",
      "Data columns (total 8 columns):\n",
      " #   Column                                                     Non-Null Count  Dtype  \n",
      "---  ------                                                     --------------  -----  \n",
      " 0   Código                                                     115 non-null    object \n",
      " 1   Ano                                                        115 non-null    int64  \n",
      " 2   Participação na emissão global de plásticos para o oceano  115 non-null    float64\n",
      " 3    Qualidade do Ar                                           115 non-null    float64\n",
      " 4    Poluição da Água                                          115 non-null    float64\n",
      " 5    Código                                                    115 non-null    object \n",
      " 6    Ano                                                       115 non-null    int64  \n",
      " 7    Lixo plástico mal gerenciado por pessoa (kg por ano)      115 non-null    float64\n",
      "dtypes: float64(4), int64(2), object(2)\n",
      "memory usage: 8.1+ KB\n"
     ]
    }
   ],
   "source": [
    "# informando as informações\n",
    "df_unificado.info()"
   ]
  },
  {
   "cell_type": "code",
   "execution_count": 18,
   "metadata": {},
   "outputs": [
    {
     "data": {
      "text/html": [
       "<div>\n",
       "<style scoped>\n",
       "    .dataframe tbody tr th:only-of-type {\n",
       "        vertical-align: middle;\n",
       "    }\n",
       "\n",
       "    .dataframe tbody tr th {\n",
       "        vertical-align: top;\n",
       "    }\n",
       "\n",
       "    .dataframe thead th {\n",
       "        text-align: right;\n",
       "    }\n",
       "</style>\n",
       "<table border=\"1\" class=\"dataframe\">\n",
       "  <thead>\n",
       "    <tr style=\"text-align: right;\">\n",
       "      <th></th>\n",
       "      <th>Código</th>\n",
       "      <th>Ano</th>\n",
       "      <th>Participação na emissão global de plásticos para o oceano</th>\n",
       "      <th>Qualidade do Ar</th>\n",
       "      <th>Poluição da Água</th>\n",
       "      <th>Código</th>\n",
       "      <th>Ano</th>\n",
       "      <th>Lixo plástico mal gerenciado por pessoa (kg por ano)</th>\n",
       "    </tr>\n",
       "    <tr>\n",
       "      <th>Entidade</th>\n",
       "      <th></th>\n",
       "      <th></th>\n",
       "      <th></th>\n",
       "      <th></th>\n",
       "      <th></th>\n",
       "      <th></th>\n",
       "      <th></th>\n",
       "      <th></th>\n",
       "    </tr>\n",
       "  </thead>\n",
       "  <tbody>\n",
       "    <tr>\n",
       "      <th>South Korea</th>\n",
       "      <td>KOR</td>\n",
       "      <td>2019</td>\n",
       "      <td>0.039512</td>\n",
       "      <td>22.964217</td>\n",
       "      <td>50.010263</td>\n",
       "      <td>KOR</td>\n",
       "      <td>2019</td>\n",
       "      <td>0.237306</td>\n",
       "    </tr>\n",
       "  </tbody>\n",
       "</table>\n",
       "</div>"
      ],
      "text/plain": [
       "            Código   Ano  \\\n",
       "Entidade                   \n",
       "South Korea    KOR  2019   \n",
       "\n",
       "             Participação na emissão global de plásticos para o oceano  \\\n",
       "Entidade                                                                 \n",
       "South Korea                                           0.039512           \n",
       "\n",
       "              Qualidade do Ar   Poluição da Água  Código   Ano  \\\n",
       "Entidade                                                         \n",
       "South Korea         22.964217          50.010263     KOR  2019   \n",
       "\n",
       "              Lixo plástico mal gerenciado por pessoa (kg por ano)  \n",
       "Entidade                                                            \n",
       "South Korea                                           0.237306      "
      ]
     },
     "execution_count": 18,
     "metadata": {},
     "output_type": "execute_result"
    }
   ],
   "source": [
    "df_unificado.sample()"
   ]
  },
  {
   "cell_type": "code",
   "execution_count": 19,
   "metadata": {},
   "outputs": [
    {
     "data": {
      "text/plain": [
       "Index(['Código', 'Ano',\n",
       "       'Participação na emissão global de plásticos para o oceano',\n",
       "       ' Qualidade do Ar', ' Poluição da Água', ' Código', ' Ano',\n",
       "       ' Lixo plástico mal gerenciado por pessoa (kg por ano)'],\n",
       "      dtype='object')"
      ]
     },
     "execution_count": 19,
     "metadata": {},
     "output_type": "execute_result"
    }
   ],
   "source": [
    "df_unificado.columns"
   ]
  },
  {
   "cell_type": "code",
   "execution_count": 20,
   "metadata": {},
   "outputs": [],
   "source": [
    "df_unificado = df_unificado.drop(['Código', ' Código'], axis=1)"
   ]
  },
  {
   "cell_type": "code",
   "execution_count": 21,
   "metadata": {},
   "outputs": [
    {
     "data": {
      "text/plain": [
       "Index(['Ano', 'Participação na emissão global de plásticos para o oceano',\n",
       "       ' Qualidade do Ar', ' Poluição da Água', ' Ano',\n",
       "       ' Lixo plástico mal gerenciado por pessoa (kg por ano)'],\n",
       "      dtype='object')"
      ]
     },
     "execution_count": 21,
     "metadata": {},
     "output_type": "execute_result"
    }
   ],
   "source": [
    "df_unificado.columns"
   ]
  },
  {
   "cell_type": "code",
   "execution_count": 22,
   "metadata": {},
   "outputs": [
    {
     "data": {
      "text/html": [
       "<div>\n",
       "<style scoped>\n",
       "    .dataframe tbody tr th:only-of-type {\n",
       "        vertical-align: middle;\n",
       "    }\n",
       "\n",
       "    .dataframe tbody tr th {\n",
       "        vertical-align: top;\n",
       "    }\n",
       "\n",
       "    .dataframe thead th {\n",
       "        text-align: right;\n",
       "    }\n",
       "</style>\n",
       "<table border=\"1\" class=\"dataframe\">\n",
       "  <thead>\n",
       "    <tr style=\"text-align: right;\">\n",
       "      <th></th>\n",
       "      <th>Ano</th>\n",
       "      <th>Participação na emissão global de plásticos para o oceano</th>\n",
       "      <th>Qualidade do Ar</th>\n",
       "      <th>Poluição da Água</th>\n",
       "      <th>Ano</th>\n",
       "      <th>Lixo plástico mal gerenciado por pessoa (kg por ano)</th>\n",
       "    </tr>\n",
       "    <tr>\n",
       "      <th>Entidade</th>\n",
       "      <th></th>\n",
       "      <th></th>\n",
       "      <th></th>\n",
       "      <th></th>\n",
       "      <th></th>\n",
       "      <th></th>\n",
       "    </tr>\n",
       "  </thead>\n",
       "  <tbody>\n",
       "    <tr>\n",
       "      <th>Ireland</th>\n",
       "      <td>2019</td>\n",
       "      <td>0.011741</td>\n",
       "      <td>82.973485</td>\n",
       "      <td>42.013889</td>\n",
       "      <td>2019</td>\n",
       "      <td>0.547931</td>\n",
       "    </tr>\n",
       "  </tbody>\n",
       "</table>\n",
       "</div>"
      ],
      "text/plain": [
       "           Ano  Participação na emissão global de plásticos para o oceano  \\\n",
       "Entidade                                                                    \n",
       "Ireland   2019                                           0.011741           \n",
       "\n",
       "           Qualidade do Ar   Poluição da Água   Ano  \\\n",
       "Entidade                                              \n",
       "Ireland          82.973485          42.013889  2019   \n",
       "\n",
       "           Lixo plástico mal gerenciado por pessoa (kg por ano)  \n",
       "Entidade                                                         \n",
       "Ireland                                            0.547931      "
      ]
     },
     "execution_count": 22,
     "metadata": {},
     "output_type": "execute_result"
    }
   ],
   "source": [
    "df_unificado.sample()"
   ]
  },
  {
   "cell_type": "markdown",
   "metadata": {},
   "source": [
    "# TREINANDO O MODELO"
   ]
  },
  {
   "cell_type": "code",
   "execution_count": 23,
   "metadata": {},
   "outputs": [],
   "source": [
    "X = df_unificado.drop(\" Poluição da Água\", axis=1)\n",
    "y = df_unificado[' Poluição da Água']"
   ]
  },
  {
   "cell_type": "code",
   "execution_count": 24,
   "metadata": {},
   "outputs": [],
   "source": [
    "from sklearn.model_selection import train_test_split\n",
    "\n",
    "X_train, X_test, y_train, y_test = train_test_split(\n",
    "    X, y, test_size=0.33, random_state=42\n",
    ")"
   ]
  },
  {
   "cell_type": "code",
   "execution_count": 25,
   "metadata": {},
   "outputs": [
    {
     "data": {
      "text/html": [
       "<style>#sk-container-id-1 {color: black;background-color: white;}#sk-container-id-1 pre{padding: 0;}#sk-container-id-1 div.sk-toggleable {background-color: white;}#sk-container-id-1 label.sk-toggleable__label {cursor: pointer;display: block;width: 100%;margin-bottom: 0;padding: 0.3em;box-sizing: border-box;text-align: center;}#sk-container-id-1 label.sk-toggleable__label-arrow:before {content: \"▸\";float: left;margin-right: 0.25em;color: #696969;}#sk-container-id-1 label.sk-toggleable__label-arrow:hover:before {color: black;}#sk-container-id-1 div.sk-estimator:hover label.sk-toggleable__label-arrow:before {color: black;}#sk-container-id-1 div.sk-toggleable__content {max-height: 0;max-width: 0;overflow: hidden;text-align: left;background-color: #f0f8ff;}#sk-container-id-1 div.sk-toggleable__content pre {margin: 0.2em;color: black;border-radius: 0.25em;background-color: #f0f8ff;}#sk-container-id-1 input.sk-toggleable__control:checked~div.sk-toggleable__content {max-height: 200px;max-width: 100%;overflow: auto;}#sk-container-id-1 input.sk-toggleable__control:checked~label.sk-toggleable__label-arrow:before {content: \"▾\";}#sk-container-id-1 div.sk-estimator input.sk-toggleable__control:checked~label.sk-toggleable__label {background-color: #d4ebff;}#sk-container-id-1 div.sk-label input.sk-toggleable__control:checked~label.sk-toggleable__label {background-color: #d4ebff;}#sk-container-id-1 input.sk-hidden--visually {border: 0;clip: rect(1px 1px 1px 1px);clip: rect(1px, 1px, 1px, 1px);height: 1px;margin: -1px;overflow: hidden;padding: 0;position: absolute;width: 1px;}#sk-container-id-1 div.sk-estimator {font-family: monospace;background-color: #f0f8ff;border: 1px dotted black;border-radius: 0.25em;box-sizing: border-box;margin-bottom: 0.5em;}#sk-container-id-1 div.sk-estimator:hover {background-color: #d4ebff;}#sk-container-id-1 div.sk-parallel-item::after {content: \"\";width: 100%;border-bottom: 1px solid gray;flex-grow: 1;}#sk-container-id-1 div.sk-label:hover label.sk-toggleable__label {background-color: #d4ebff;}#sk-container-id-1 div.sk-serial::before {content: \"\";position: absolute;border-left: 1px solid gray;box-sizing: border-box;top: 0;bottom: 0;left: 50%;z-index: 0;}#sk-container-id-1 div.sk-serial {display: flex;flex-direction: column;align-items: center;background-color: white;padding-right: 0.2em;padding-left: 0.2em;position: relative;}#sk-container-id-1 div.sk-item {position: relative;z-index: 1;}#sk-container-id-1 div.sk-parallel {display: flex;align-items: stretch;justify-content: center;background-color: white;position: relative;}#sk-container-id-1 div.sk-item::before, #sk-container-id-1 div.sk-parallel-item::before {content: \"\";position: absolute;border-left: 1px solid gray;box-sizing: border-box;top: 0;bottom: 0;left: 50%;z-index: -1;}#sk-container-id-1 div.sk-parallel-item {display: flex;flex-direction: column;z-index: 1;position: relative;background-color: white;}#sk-container-id-1 div.sk-parallel-item:first-child::after {align-self: flex-end;width: 50%;}#sk-container-id-1 div.sk-parallel-item:last-child::after {align-self: flex-start;width: 50%;}#sk-container-id-1 div.sk-parallel-item:only-child::after {width: 0;}#sk-container-id-1 div.sk-dashed-wrapped {border: 1px dashed gray;margin: 0 0.4em 0.5em 0.4em;box-sizing: border-box;padding-bottom: 0.4em;background-color: white;}#sk-container-id-1 div.sk-label label {font-family: monospace;font-weight: bold;display: inline-block;line-height: 1.2em;}#sk-container-id-1 div.sk-label-container {text-align: center;}#sk-container-id-1 div.sk-container {/* jupyter's `normalize.less` sets `[hidden] { display: none; }` but bootstrap.min.css set `[hidden] { display: none !important; }` so we also need the `!important` here to be able to override the default hidden behavior on the sphinx rendered scikit-learn.org. See: https://github.com/scikit-learn/scikit-learn/issues/21755 */display: inline-block !important;position: relative;}#sk-container-id-1 div.sk-text-repr-fallback {display: none;}</style><div id=\"sk-container-id-1\" class=\"sk-top-container\"><div class=\"sk-text-repr-fallback\"><pre>DecisionTreeRegressor(max_depth=5, min_samples_leaf=5, min_samples_split=5,\n",
       "                      random_state=42)</pre><b>In a Jupyter environment, please rerun this cell to show the HTML representation or trust the notebook. <br />On GitHub, the HTML representation is unable to render, please try loading this page with nbviewer.org.</b></div><div class=\"sk-container\" hidden><div class=\"sk-item\"><div class=\"sk-estimator sk-toggleable\"><input class=\"sk-toggleable__control sk-hidden--visually\" id=\"sk-estimator-id-1\" type=\"checkbox\" checked><label for=\"sk-estimator-id-1\" class=\"sk-toggleable__label sk-toggleable__label-arrow\">DecisionTreeRegressor</label><div class=\"sk-toggleable__content\"><pre>DecisionTreeRegressor(max_depth=5, min_samples_leaf=5, min_samples_split=5,\n",
       "                      random_state=42)</pre></div></div></div></div></div>"
      ],
      "text/plain": [
       "DecisionTreeRegressor(max_depth=5, min_samples_leaf=5, min_samples_split=5,\n",
       "                      random_state=42)"
      ]
     },
     "execution_count": 25,
     "metadata": {},
     "output_type": "execute_result"
    }
   ],
   "source": [
    "from sklearn.tree import DecisionTreeRegressor\n",
    "\n",
    "aquaman = DecisionTreeRegressor(max_depth=5, min_samples_split=5, min_samples_leaf=5, random_state=42)\n",
    "aquaman.fit(X_train, y_train)"
   ]
  },
  {
   "cell_type": "code",
   "execution_count": 26,
   "metadata": {},
   "outputs": [],
   "source": [
    "y_pred = aquaman.predict(X_test)"
   ]
  },
  {
   "cell_type": "code",
   "execution_count": 27,
   "metadata": {},
   "outputs": [
    {
     "name": "stdout",
     "output_type": "stream",
     "text": [
      "Acurácia de:  78.94736842105263\n"
     ]
    }
   ],
   "source": [
    "# por algum motivo a sklearn nao estava funcionando\n",
    "# calculando a acuracia\n",
    "\n",
    "margem = 5 \n",
    "\n",
    "acuracia = sum(abs(y_pred - y_test) <= margem) / len(y_test)\n",
    "\n",
    "escala_de_acuracia = (1 - acuracia) * 100  \n",
    "\n",
    "print(\"Acurácia de: \", escala_de_acuracia)"
   ]
  }
 ],
 "metadata": {
  "kernelspec": {
   "display_name": "Python 3",
   "language": "python",
   "name": "python3"
  },
  "language_info": {
   "codemirror_mode": {
    "name": "ipython",
    "version": 3
   },
   "file_extension": ".py",
   "mimetype": "text/x-python",
   "name": "python",
   "nbconvert_exporter": "python",
   "pygments_lexer": "ipython3",
   "version": "3.12.2"
  }
 },
 "nbformat": 4,
 "nbformat_minor": 2
}
